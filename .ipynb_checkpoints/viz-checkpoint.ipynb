{
 "cells": [
  {
   "cell_type": "code",
   "execution_count": 10,
   "metadata": {},
   "outputs": [],
   "source": [
    "import json\n",
    "#import plotly.graph_objects as go\n",
    "import matplotlib.pyplot as plt\n"
   ]
  },
  {
   "cell_type": "code",
   "execution_count": 3,
   "metadata": {},
   "outputs": [],
   "source": [
    "## every gene has a \"GENE_mRNA_sitesRemoved.fasta.FEL.json\"\n",
    "\n",
    "## use keys of dict to filter over FEL data, use the values to viz the busteds data ##\n",
    "\n",
    "GENES = {\n",
    "    \"HspB1\":[\n",
    "        \"K123-Y143.fasta.BUSTEDS.json\",\n",
    "        \"L58-S78.fasta.BUSTEDS.json\",\n",
    "        \"M1-G122.fasta.BUSTEDS.json\", \n",
    "        \"M1-P57.fasta.BUSTEDS.json\",\n",
    "        \"M169-K205.fasta.BUSTEDS.json\", \n",
    "        \"R79-P168.fasta.BUSTEDS.json\",\n",
    "        \"T144-K205.fasta.BUSTEDS.json\"\n",
    "        ],\n",
    "    \n",
    "    \"HspB3\":[\n",
    "        \"F71-L139.fasta.BUSTEDS.json\",\n",
    "        \"M1-P40.fasta.BUSTEDS.json\",\n",
    "        \"T41-H70.fasta.BUSTEDS.json\",\n",
    "        \"V140-K150.fasta.BUSTEDS.json\"\n",
    "    ],\n",
    "    \n",
    "    \"HspB5\":[\n",
    "        \"G64-R149.fasta.BUSTEDS.json\",\n",
    "        \"K150-K175.fasta.BUSTEDS.json\",\n",
    "        \"M1-E67.fasta.BUSTEDS.json\",\n",
    "        \"M1-P51.fasta.BUSTEDS.json\",\n",
    "        \"M68-R107.fasta.BUSTEDS.json\",\n",
    "        \"P52-T63.fasta.BUSTEDS.json\",\n",
    "        \"Q108-K175.fasta.BUSTEDS.json\"\n",
    "    ],\n",
    "    \n",
    "    \"HspB8\":[\n",
    "        \"E94-Y174.fasta.BUSTEDS.json\",\n",
    "        \"K124-I143.fasta.BUSTEDS.json\",\n",
    "        \"M1-G123.fasta.BUSTEDS.json\",\n",
    "        \"M1-M68.fasta.BUSTEDS.json\",\n",
    "        \"Q144-T196.fasta.BUSTEDS.json\",\n",
    "        \"S175-T196.fasta.BUSTEDS.json\",\n",
    "        \"V69-G93.fasta.BUSTEDS.json\"\n",
    "    ]\n",
    "}"
   ]
  },
  {
   "cell_type": "markdown",
   "metadata": {},
   "source": [
    "### FEL viz: making each FEL graph separate for each gene\n",
    "outputs: a PNG to viz, and CSV with a list of sites that were positive"
   ]
  },
  {
   "cell_type": "code",
   "execution_count": 31,
   "metadata": {},
   "outputs": [
    {
     "name": "stdout",
     "output_type": "stream",
     "text": [
      "WORKING WITH HspB1\n"
     ]
    },
    {
     "data": {
      "image/png": "[encoded data removed]",
      "text/plain": [
       "<Figure size 432x288 with 1 Axes>"
      ]
     },
     "metadata": {
      "needs_background": "light"
     },
     "output_type": "display_data"
    },
    {
     "ename": "TypeError",
     "evalue": "sequence item 0: expected str instance, float found",
     "output_type": "error",
     "traceback": [
      "\u001b[0;31m---------------------------------------------------------------------------\u001b[0m",
      "\u001b[0;31mTypeError\u001b[0m                                 Traceback (most recent call last)",
      "\u001b[0;32m<ipython-input-31-b2d16bd6c0e6>\u001b[0m in \u001b[0;36m<module>\u001b[0;34m\u001b[0m\n\u001b[1;32m     66\u001b[0m         \u001b[0;32mfor\u001b[0m \u001b[0mps\u001b[0m \u001b[0;32min\u001b[0m \u001b[0mpositive\u001b[0m\u001b[0;34m:\u001b[0m\u001b[0;34m\u001b[0m\u001b[0;34m\u001b[0m\u001b[0m\n\u001b[1;32m     67\u001b[0m             \u001b[0;31m#fel = \",\".join(ps[2])\u001b[0m\u001b[0;34m\u001b[0m\u001b[0;34m\u001b[0m\u001b[0;34m\u001b[0m\u001b[0m\n\u001b[0;32m---> 68\u001b[0;31m             \u001b[0mout_f\u001b[0m\u001b[0;34m.\u001b[0m\u001b[0mwrite\u001b[0m\u001b[0;34m(\u001b[0m\u001b[0;34m\"{},{},{}\\n\"\u001b[0m\u001b[0;34m.\u001b[0m\u001b[0mformat\u001b[0m\u001b[0;34m(\u001b[0m\u001b[0mps\u001b[0m\u001b[0;34m[\u001b[0m\u001b[0;36m0\u001b[0m\u001b[0;34m]\u001b[0m\u001b[0;34m,\u001b[0m \u001b[0mps\u001b[0m\u001b[0;34m[\u001b[0m\u001b[0;36m1\u001b[0m\u001b[0;34m]\u001b[0m\u001b[0;34m,\u001b[0m \u001b[0;34m\",\"\u001b[0m\u001b[0;34m.\u001b[0m\u001b[0mjoin\u001b[0m\u001b[0;34m(\u001b[0m\u001b[0mps\u001b[0m\u001b[0;34m[\u001b[0m\u001b[0;36m2\u001b[0m\u001b[0;34m]\u001b[0m\u001b[0;34m)\u001b[0m\u001b[0;34m)\u001b[0m\u001b[0;34m)\u001b[0m\u001b[0;34m\u001b[0m\u001b[0;34m\u001b[0m\u001b[0m\n\u001b[0m\u001b[1;32m     69\u001b[0m \u001b[0;34m\u001b[0m\u001b[0m\n\u001b[1;32m     70\u001b[0m     \u001b[0mprint\u001b[0m\u001b[0;34m(\u001b[0m\u001b[0;34mf\"DONE WITH {gene}\\n\"\u001b[0m\u001b[0;34m)\u001b[0m\u001b[0;34m\u001b[0m\u001b[0;34m\u001b[0m\u001b[0m\n",
      "\u001b[0;31mTypeError\u001b[0m: sequence item 0: expected str instance, float found"
     ]
    }
   ],
   "source": [
    "for gene in list(GENES.keys())[0:1]:\n",
    "    \n",
    "    ## write output csv with positive sites ##\n",
    "    \n",
    "    print(f\"WORKING WITH {gene}\")\n",
    "    FEL_json = \"data/%s/sections/%s-mRNA_sitesRemoved.fasta.FEL.json\" % (gene,gene)\n",
    "    \n",
    "    with open(FEL_json, \"r\") as in_j:\n",
    "        json_data = json.load(in_j)\n",
    "    \n",
    "    ##               0        1         2          3       4       5\n",
    "    ## headers = [\"alpha\", \"beta\", \"alpha=beta\", \"LRT\", \"p-val\", \"TBL\" ]\n",
    "    \n",
    "    MLE = json_data[\"MLE\"][\"content\"][\"0\"]\n",
    "    \n",
    "    negative = []\n",
    "    neutral = []\n",
    "    # list of tuples with site and FEL data for site\n",
    "    positive = []\n",
    "    \n",
    "    x = []\n",
    "    y = []\n",
    "    \n",
    "    for pos, item in enumerate(MLE):\n",
    "        \n",
    "        omega = 0\n",
    "        alpha = item[0]\n",
    "        beta = item[1]\n",
    "    \n",
    "        if alpha != 0 and beta != 0:\n",
    "            omega = beta/alpha\n",
    "      \n",
    "        if omega > 2:\n",
    "            omega = 2\n",
    "\n",
    "        if omega < .95:\n",
    "            negative.append(pos+1)\n",
    "        elif 0.96 <= omega <= 1.1:\n",
    "            neutral.append(pos+1)\n",
    "        else:\n",
    "            positive.append((pos+1, omega, item))\n",
    "        \n",
    "        x.append(pos+1)\n",
    "        y.append(omega)\n",
    "    \n",
    "    ## build viz\n",
    "    plt.scatter(x, y)\n",
    "    plt.axhline(y=1, color='r', linestyle='-')\n",
    "    \n",
    "    xlab = \"SITES in %s\" % gene\n",
    "\n",
    "    plt.xlabel(xlab)\n",
    "    plt.ylabel(\"OMEGA (dN/dS)\")\n",
    "    \n",
    "    title = \"%s OMEGA vals for SITES\" % gene\n",
    "    plt.title(title)\n",
    "        \n",
    "    file_name = \"data/%s/sections/%s_FEL.png\" % (gene,gene)\n",
    "    plt.savefig(file_name)\n",
    "    plt.show()\n",
    "    \n",
    "    ## now CSV ##\n",
    "    out_csv = \"data/%s/sections/%s_PS.csv\" % (gene,gene)\n",
    "    with open(out_csv, \"w\") as out_f:\n",
    "        out_f.write(\"SITE,OMEGA,ALPHA,BETA,ALPHA=BETA,LRT,P-VAL,TBL\\n\")\n",
    "        for ps in positive:\n",
    "            #fel = \",\".join(ps[2])\n",
    "            out_f.write(\"{},{},{}\\n\".format(ps[0], ps[1], ps[2][0]))\n",
    "    \n",
    "    print(f\"DONE WITH {gene}\\n\")"
   ]
  },
  {
   "cell_type": "code",
   "execution_count": null,
   "metadata": {},
   "outputs": [],
   "source": []
  }
 ],
 "metadata": {
  "kernelspec": {
   "display_name": "Python 3",
   "language": "python",
   "name": "python3"
  },
  "language_info": {
   "codemirror_mode": {
    "name": "ipython",
    "version": 3
   },
   "file_extension": ".py",
   "mimetype": "text/x-python",
   "name": "python",
   "nbconvert_exporter": "python",
   "pygments_lexer": "ipython3",
   "version": "3.7.7"
  }
 },
 "nbformat": 4,
 "nbformat_minor": 2
}
