{
 "cells": [
  {
   "cell_type": "code",
   "execution_count": 1,
   "metadata": {},
   "outputs": [],
   "source": [
    "from Bio import SeqIO\n",
    "from Bio.SeqIO.FastaIO import SimpleFastaParser\n",
    "from Bio.Seq import Seq\n",
    "from Bio.SeqRecord import SeqRecord"
   ]
  },
  {
   "cell_type": "code",
   "execution_count": 3,
   "metadata": {},
   "outputs": [],
   "source": [
    "fileName = 'HspB-5_RNA_aligned_trimmed.fasta'\n",
    "with open('./../data/HspB-5/' + fileName) as fasta_file:\n",
    "    ids = []\n",
    "    sequences = []\n",
    "    for title, sequence in SimpleFastaParser(fasta_file):\n",
    "        ids.append(title.split(None, 1)[0])  # First word is ID\n",
    "        sequences.append(sequence)"
   ]
  },
  {
   "cell_type": "code",
   "execution_count": 4,
   "metadata": {},
   "outputs": [],
   "source": [
    "def replaceStopCodonsWithDashes(sequenceString):\n",
    "    #Take in a dna/rna string and return the same string with `---` in place of any stop codons\n",
    "    stopCodons = ['UAG', 'UAA', 'UGA', 'TAG', 'TAA', 'TGA', 'uag', 'uaa', 'uga', 'tag', 'taa', 'tga']\n",
    "    numberOfCodons = len(sequenceString)/3\n",
    "    codonStartChar = 0\n",
    "    newSequenceString = ''\n",
    "    \n",
    "    \n",
    "    while codonStartChar < len(sequenceString):\n",
    "        codon = sequenceString[codonStartChar: (codonStartChar+3)]\n",
    "        if codon in stopCodons:\n",
    "            codon = '---'\n",
    "        newSequenceString += codon\n",
    "        codonStartChar +=3\n",
    "    \n",
    "    return newSequenceString"
   ]
  },
  {
   "cell_type": "code",
   "execution_count": 5,
   "metadata": {},
   "outputs": [],
   "source": [
    "newSequences = []\n",
    "for sequence in sequences:\n",
    "    newSequences.append(replaceStopCodonsWithDashes(sequence))"
   ]
  },
  {
   "cell_type": "code",
   "execution_count": 6,
   "metadata": {},
   "outputs": [
    {
     "data": {
      "text/plain": [
       "150"
      ]
     },
     "execution_count": 6,
     "metadata": {},
     "output_type": "execute_result"
    }
   ],
   "source": [
    "records = []\n",
    "for i in range(len(ids)):\n",
    "    record = SeqRecord(Seq(newSequences[i]), id=ids[i])\n",
    "    records.append(record)\n",
    "SeqIO.write(records, \"./\" + fileName + \"_strippedStops.fasta\", \"fasta\")"
   ]
  },
  {
   "cell_type": "code",
   "execution_count": 7,
   "metadata": {},
   "outputs": [],
   "source": [
    "def TrimToMakeDivByThree(listOfSequences):\n",
    "    #Take in a list of dna/rna sequences (strings) and return the list with each one divisible by three\n",
    "    #Return a new list of sequences (strings)\n",
    "    trimmedSequences = []\n",
    "    for seq in listOfSequences:\n",
    "        trimmedSeq = seq[:-(len(seq) % 3)]\n",
    "        trimmedSequences.append(trimmedSeq)\n",
    "    return trimmedSequences"
   ]
  },
  {
   "cell_type": "code",
   "execution_count": 8,
   "metadata": {},
   "outputs": [],
   "source": [
    "trimmedSequences = TrimToMakeDivByThree(newSequences)"
   ]
  },
  {
   "cell_type": "code",
   "execution_count": 9,
   "metadata": {},
   "outputs": [
    {
     "data": {
      "text/plain": [
       "150"
      ]
     },
     "execution_count": 9,
     "metadata": {},
     "output_type": "execute_result"
    }
   ],
   "source": [
    "records = []\n",
    "for i in range(len(ids)):\n",
    "    record = SeqRecord(Seq(trimmedSequences[i]), id=ids[i])\n",
    "    records.append(record)\n",
    "SeqIO.write(records, \"./\" + fileName + \"_strippedStops_trimmed.fasta\", \"fasta\")"
   ]
  },
  {
   "cell_type": "code",
   "execution_count": null,
   "metadata": {},
   "outputs": [],
   "source": []
  }
 ],
 "metadata": {
  "kernelspec": {
   "display_name": "Python 3",
   "language": "python",
   "name": "python3"
  },
  "language_info": {
   "codemirror_mode": {
    "name": "ipython",
    "version": 3
   },
   "file_extension": ".py",
   "mimetype": "text/x-python",
   "name": "python",
   "nbconvert_exporter": "python",
   "pygments_lexer": "ipython3",
   "version": "3.6.4"
  }
 },
 "nbformat": 4,
 "nbformat_minor": 2
}
