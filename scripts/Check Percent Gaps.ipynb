{
 "cells": [
  {
   "cell_type": "code",
   "execution_count": 11,
   "metadata": {},
   "outputs": [],
   "source": [
    "from Bio import SeqIO\n",
    "from Bio.SeqIO.FastaIO import SimpleFastaParser\n",
    "from Bio.Seq import Seq\n",
    "from Bio.SeqRecord import SeqRecord\n",
    "import operator"
   ]
  },
  {
   "cell_type": "code",
   "execution_count": 8,
   "metadata": {},
   "outputs": [],
   "source": [
    "def getPercentGaps(sequenceString):\n",
    "    numberGaps = 0\n",
    "    for char in list(sequenceString):\n",
    "        if char is '-':\n",
    "            numberGaps+=1\n",
    "    percent = numberGaps/len(list(sequenceString))\n",
    "\n",
    "    \n",
    "    return percent"
   ]
  },
  {
   "cell_type": "code",
   "execution_count": 9,
   "metadata": {},
   "outputs": [],
   "source": [
    "fileName = 'HspB-1_RNA_aliged_trimmed.fasta'\n",
    "with open('./' + fileName) as fasta_file:\n",
    "    ids = []\n",
    "    sequences = []\n",
    "    percentGaps = []\n",
    "    for title, sequence in SimpleFastaParser(fasta_file):\n",
    "        ids.append(title.split(None, 1)[0])  # First word is ID\n",
    "        sequences.append(sequence)\n",
    "        percentGaps.append(getPercentGaps(sequence))"
   ]
  },
  {
   "cell_type": "code",
   "execution_count": 10,
   "metadata": {},
   "outputs": [],
   "source": [
    "percentGapsDict = dict(zip(ids, percentGaps))"
   ]
  },
  {
   "cell_type": "code",
   "execution_count": 12,
   "metadata": {},
   "outputs": [],
   "source": [
    "sorted_percentGaps = sorted(percentGapsDict.items(), key=operator.itemgetter(1))"
   ]
  },
  {
   "cell_type": "code",
   "execution_count": 20,
   "metadata": {},
   "outputs": [
    {
     "name": "stdout",
     "output_type": "stream",
     "text": [
      "158\n",
      "('124-XM_014953090.1-HspB1-Calidris-pugnax-SauriaTestudines', 0.3106796116504854)\n",
      "157\n",
      "('125-XM_008495043.1-HspB1-Calypte-anna-SauriaTestudines', 0.3058252427184466)\n",
      "156\n",
      "('065-XM_016199051.1-HspB1-Miniopterus-natalensis-Laurasitheria', 0.2815533980582524)\n",
      "155\n",
      "('037a-XM_015490689.1-HspB1-Marmota-marmotaGliresScandentia', 0.25728155339805825)\n",
      "154\n",
      "('035-XM_010619058.2-HspB1-Fukomys-damarensisGliresScandentia', 0.2524271844660194)\n",
      "153\n",
      "('120a-NM_001287309.1-HspB1-Alligator-mississippiensis-SauriaTestudines', 0.15048543689320387)\n",
      "152\n",
      "('067-XM_005879150.2-HspB1-Myotis-brandtii-Laurasitheria', 0.15048543689320387)\n",
      "151\n",
      "('211b-ENSPNYT00000022694.1-HspB1-Pundamilia-nyererei-Euteleosteomorpha', 0.12135922330097088)\n",
      "150\n",
      "('001b-ENSCANT00000043608.1-HspB1-Colobus-angolensis-Primates', 0.11165048543689321)\n",
      "149\n",
      "('193-XM_014019664.1-HspB1-Austrofundulus-limnaeus-Euteleosteomorpha', 0.10194174757281553)\n",
      "148\n",
      "('130-XM_009560237.1-HspB1-Cuculus-canorus-SauriaTestudines', 0.10194174757281553)\n",
      "147\n",
      "('015b-ENSSBOT00000048956.1-HspB1-Saimiri-boliviensis-Primates', 0.10194174757281553)\n",
      "146\n",
      "('208b-ENSOMET00000013957.1-HspB1-like-Oryzias-melastigma-Euteleosteomorpha', 0.0970873786407767)\n",
      "145\n",
      "('200c-ENSMMOT00000007488.1-HspB1-Mola-mola-Euteleosteomorpha', 0.08737864077669903)\n",
      "144\n",
      "('ENSGMOT00000013588.1-HspB1-Gadus-morhua-Euteleosteomorpha', 0.0825242718446602)\n"
     ]
    }
   ],
   "source": [
    "for i in range(15):\n",
    "    index = len(sorted_percentGaps) - i\n",
    "    print(index)\n",
    "    print(sorted_percentGaps[index-1])"
   ]
  }
 ],
 "metadata": {
  "kernelspec": {
   "display_name": "Python 3",
   "language": "python",
   "name": "python3"
  },
  "language_info": {
   "codemirror_mode": {
    "name": "ipython",
    "version": 3
   },
   "file_extension": ".py",
   "mimetype": "text/x-python",
   "name": "python",
   "nbconvert_exporter": "python",
   "pygments_lexer": "ipython3",
   "version": "3.6.4"
  }
 },
 "nbformat": 4,
 "nbformat_minor": 2
}
