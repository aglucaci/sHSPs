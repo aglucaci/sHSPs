{
 "cells": [
  {
   "cell_type": "code",
   "execution_count": 11,
   "metadata": {},
   "outputs": [],
   "source": [
    "from Bio import SeqIO\n",
    "from Bio.SeqIO.FastaIO import SimpleFastaParser\n",
    "from Bio.Seq import Seq\n",
    "from Bio.SeqRecord import SeqRecord\n",
    "import Bio"
   ]
  },
  {
   "cell_type": "code",
   "execution_count": 3,
   "metadata": {},
   "outputs": [],
   "source": [
    "fileName = 'HSPB8_mRNA_aligned3.fasta'\n",
    "with open('./' + fileName) as fasta_file:\n",
    "    ids = []\n",
    "    sequences = []\n",
    "    for title, sequence in SimpleFastaParser(fasta_file):\n",
    "        ids.append(title.split(None, 1)[0])  # First word is ID\n",
    "        sequences.append(sequence)"
   ]
  },
  {
   "cell_type": "code",
   "execution_count": 4,
   "metadata": {},
   "outputs": [],
   "source": [
    "def replaceStopCodonsWithDashes(sequenceString):\n",
    "    #Take in a dna/rna string and return the same string with `---` in place of any stop codons\n",
    "    stopCodons = ['UAG', 'UAA', 'UGA', 'TAG', 'TAA', 'TGA', 'uag', 'uaa', 'uga', 'tag', 'taa', 'tga']\n",
    "    numberOfCodons = len(sequenceString)/3\n",
    "    codonStartChar = 0\n",
    "    newSequenceString = ''\n",
    "    \n",
    "    \n",
    "    while codonStartChar < len(sequenceString):\n",
    "        codon = sequenceString[codonStartChar: (codonStartChar+3)]\n",
    "        if codon in stopCodons:\n",
    "            codon = '---'\n",
    "        newSequenceString += codon\n",
    "        codonStartChar +=3\n",
    "    \n",
    "    return newSequenceString"
   ]
  },
  {
   "cell_type": "code",
   "execution_count": 5,
   "metadata": {},
   "outputs": [],
   "source": [
    "newSequences = []\n",
    "for sequence in sequences:\n",
    "    newSequences.append(replaceStopCodonsWithDashes(sequence))"
   ]
  },
  {
   "cell_type": "code",
   "execution_count": 6,
   "metadata": {},
   "outputs": [
    {
     "data": {
      "text/plain": [
       "148"
      ]
     },
     "execution_count": 6,
     "metadata": {},
     "output_type": "execute_result"
    }
   ],
   "source": [
    "records = []\n",
    "for i in range(len(ids)):\n",
    "    record = SeqRecord(Seq(newSequences[i]), id=ids[i])\n",
    "    records.append(record)\n",
    "SeqIO.write(records, \"./\" + fileName + \"_strippedStops.fasta\", \"fasta\")"
   ]
  },
  {
   "cell_type": "code",
   "execution_count": 7,
   "metadata": {},
   "outputs": [],
   "source": [
    "def TrimToMakeDivByThree(listOfSequences):\n",
    "    #Take in a list of dna/rna sequences (strings) and return the list with each one divisible by three\n",
    "    #Return a new list of sequences (strings)\n",
    "    trimmedSequences = []\n",
    "    for seq in listOfSequences:\n",
    "        trimmedSeq = seq[:-(len(seq) % 3)]\n",
    "        trimmedSequences.append(trimmedSeq)\n",
    "    return trimmedSequences"
   ]
  },
  {
   "cell_type": "code",
   "execution_count": 8,
   "metadata": {},
   "outputs": [],
   "source": [
    "trimmedSequences = TrimToMakeDivByThree(newSequences)"
   ]
  },
  {
   "cell_type": "code",
   "execution_count": 9,
   "metadata": {},
   "outputs": [
    {
     "data": {
      "text/plain": [
       "148"
      ]
     },
     "execution_count": 9,
     "metadata": {},
     "output_type": "execute_result"
    }
   ],
   "source": [
    "records = []\n",
    "for i in range(len(ids)):\n",
    "    record = SeqRecord(Seq(trimmedSequences[i]), id=ids[i])\n",
    "    records.append(record)\n",
    "SeqIO.write(records, \"./\" + fileName + \"_strippedStops_trimmed.fasta\", \"fasta\")"
   ]
  },
  {
   "cell_type": "code",
   "execution_count": 27,
   "metadata": {},
   "outputs": [],
   "source": [
    "def translate(seq): \n",
    "       \n",
    "    table = { \n",
    "        'ATA':'I', 'ATC':'I', 'ATT':'I', 'ATG':'M', \n",
    "        'ACA':'T', 'ACC':'T', 'ACG':'T', 'ACT':'T', \n",
    "        'AAC':'N', 'AAT':'N', 'AAA':'K', 'AAG':'K', \n",
    "        'AGC':'S', 'AGT':'S', 'AGA':'R', 'AGG':'R',                  \n",
    "        'CTA':'L', 'CTC':'L', 'CTG':'L', 'CTT':'L', \n",
    "        'CCA':'P', 'CCC':'P', 'CCG':'P', 'CCT':'P', \n",
    "        'CAC':'H', 'CAT':'H', 'CAA':'Q', 'CAG':'Q', \n",
    "        'CGA':'R', 'CGC':'R', 'CGG':'R', 'CGT':'R', \n",
    "        'GTA':'V', 'GTC':'V', 'GTG':'V', 'GTT':'V', \n",
    "        'GCA':'A', 'GCC':'A', 'GCG':'A', 'GCT':'A', \n",
    "        'GAC':'D', 'GAT':'D', 'GAA':'E', 'GAG':'E', \n",
    "        'GGA':'G', 'GGC':'G', 'GGG':'G', 'GGT':'G', \n",
    "        'TCA':'S', 'TCC':'S', 'TCG':'S', 'TCT':'S', \n",
    "        'TTC':'F', 'TTT':'F', 'TTA':'L', 'TTG':'L', \n",
    "        'TAC':'Y', 'TAT':'Y', 'TAA':'_', 'TAG':'_', \n",
    "        'TGC':'C', 'TGT':'C', 'TGA':'_', 'TGG':'W',\n",
    "    } \n",
    "    protein =\"\" \n",
    "    if len(seq)%3 == 0: \n",
    "        for i in range(0, len(seq), 3): \n",
    "            codon = seq[i:i + 3].upper()\n",
    "            try:\n",
    "                protein+= table[codon]\n",
    "            except:\n",
    "                protein+= 'X'\n",
    "    return protein "
   ]
  },
  {
   "cell_type": "code",
   "execution_count": 29,
   "metadata": {},
   "outputs": [
    {
     "ename": "SyntaxError",
     "evalue": "invalid syntax (<ipython-input-29-a817cea976c1>, line 3)",
     "output_type": "error",
     "traceback": [
      "\u001b[0;36m  File \u001b[0;32m\"<ipython-input-29-a817cea976c1>\"\u001b[0;36m, line \u001b[0;32m3\u001b[0m\n\u001b[0;31m    translatedSeq = translate(seq)`\u001b[0m\n\u001b[0m                                  ^\u001b[0m\n\u001b[0;31mSyntaxError\u001b[0m\u001b[0;31m:\u001b[0m invalid syntax\n"
     ]
    }
   ],
   "source": [
    "translatedSequences = []\n",
    "for seq in trimmedSequences:\n",
    "    translatedSeq = translate(seq)\n",
    "    translatedSequences.append(translatedSeq)"
   ]
  },
  {
   "cell_type": "code",
   "execution_count": 31,
   "metadata": {},
   "outputs": [
    {
     "data": {
      "text/plain": [
       "148"
      ]
     },
     "execution_count": 31,
     "metadata": {},
     "output_type": "execute_result"
    }
   ],
   "source": [
    "records = []\n",
    "for i in range(len(ids))\n",
    "    record = SeqRecord(Seq(translatedSequences[i]), id=ids[i][:3])\n",
    "    records.append(record)\n",
    "SeqIO.write(records, \"./\" + fileName + \"_strippedStops_translated.fasta\", \"fasta\")"
   ]
  },
  {
   "cell_type": "code",
   "execution_count": null,
   "metadata": {},
   "outputs": [],
   "source": []
  }
 ],
 "metadata": {
  "kernelspec": {
   "display_name": "Python 3",
   "language": "python",
   "name": "python3"
  },
  "language_info": {
   "codemirror_mode": {
    "name": "ipython",
    "version": 3
   },
   "file_extension": ".py",
   "mimetype": "text/x-python",
   "name": "python",
   "nbconvert_exporter": "python",
   "pygments_lexer": "ipython3",
   "version": "3.6.4"
  }
 },
 "nbformat": 4,
 "nbformat_minor": 2
}
