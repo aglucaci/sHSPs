{
 "cells": [
  {
   "cell_type": "code",
   "execution_count": 8,
   "id": "ignored-idaho",
   "metadata": {},
   "outputs": [],
   "source": [
    "# Imports\n",
    "import os\n",
    "import json\n",
    "import pandas as pd\n",
    "import plotly.graph_objects as go"
   ]
  },
  {
   "cell_type": "code",
   "execution_count": 26,
   "id": "auburn-moore",
   "metadata": {},
   "outputs": [],
   "source": [
    "# Declares \n",
    "BASEDIR = 'D:\\\\sHSPs\\\\sHSPs\\\\data\\\\'\n",
    "genes = [\"HspB1\", \"HspB3\", \"HspB5\", \"HspB8\"]"
   ]
  },
  {
   "cell_type": "code",
   "execution_count": 27,
   "id": "initial-outside",
   "metadata": {},
   "outputs": [],
   "source": [
    "# Get global omega value\n",
    "def get_global_omega(json_file):\n",
    "  with open(json_file, \"r\") as in_d:\n",
    "    json_data = json.load(in_d)\n",
    "  #end with\n",
    "  omega = json_data[\"fits\"][\"MG94xREV with separate rates for branch sets\"][\"Rate Distributions\"]\n",
    "  return omega['non-synonymous/synonymous rate ratio for *test*'][0]\n",
    "#end method\n",
    "\n",
    "def get_omega_distribution(json_file):\n",
    "  print(\"Processing:\", json_file)\n",
    "  with open(json_file, \"r\") as in_d:\n",
    "    json_data = json.load(in_d)\n",
    "  #end with\n",
    "  fits = json_data[\"fits\"][\"Unconstrained model\"]\n",
    "  tested = fits[\"Rate Distributions\"][\"Test\"]\n",
    "  return tested[\"0\"][\"omega\"], tested[\"0\"][\"proportion\"], tested[\"1\"][\"omega\"], tested[\"1\"][\"proportion\"], tested[\"2\"][\"omega\"], tested[\"2\"][\"proportion\"]\n",
    "#end method"
   ]
  },
  {
   "cell_type": "code",
   "execution_count": 28,
   "id": "weekly-dover",
   "metadata": {
    "scrolled": false
   },
   "outputs": [
    {
     "name": "stdout",
     "output_type": "stream",
     "text": [
      "1 D:\\sHSPs\\sHSPs\\data\\\\HspB1\\sections\\HspB1-mRNA_K123-Y143.fasta.BUSTEDS.json [0.03173010422077711, 1]\n",
      "2 D:\\sHSPs\\sHSPs\\data\\\\HspB1\\sections\\HspB1-mRNA_L58-S78.fasta.BUSTEDS.json [0.2321174912308542, 1]\n",
      "3 D:\\sHSPs\\sHSPs\\data\\\\HspB1\\sections\\HspB1-mRNA_M1-G122.fasta.BUSTEDS.json [0.1182318649821728, 1]\n",
      "4 D:\\sHSPs\\sHSPs\\data\\\\HspB1\\sections\\HspB1-mRNA_M1-P57.fasta.BUSTEDS.json [0.1037397239468838, 1]\n",
      "5 D:\\sHSPs\\sHSPs\\data\\\\HspB1\\sections\\HspB1-mRNA_M169-K205.fasta.BUSTEDS.json [0.1897702846207354, 1]\n",
      "6 D:\\sHSPs\\sHSPs\\data\\\\HspB1\\sections\\HspB1-mRNA_R79-P168.fasta.BUSTEDS.json [0.06869148459473158, 1]\n",
      "7 D:\\sHSPs\\sHSPs\\data\\\\HspB1\\sections\\HspB1-mRNA_T144-K205.fasta.BUSTEDS.json [0.1465479268951565, 1]\n",
      "\n",
      "1 D:\\sHSPs\\sHSPs\\data\\\\HspB3\\sections\\HspB3-mRNA_F71-L139.fasta.BUSTEDS.json [0.08610246793303568, 1]\n",
      "2 D:\\sHSPs\\sHSPs\\data\\\\HspB3\\sections\\HspB3-mRNA_M1-P40.fasta.BUSTEDS.json [0.1497443549621015, 1]\n",
      "3 D:\\sHSPs\\sHSPs\\data\\\\HspB3\\sections\\HspB3-mRNA_T41-H70.fasta.BUSTEDS.json [0.6129221003199096, 1]\n",
      "4 D:\\sHSPs\\sHSPs\\data\\\\HspB3\\sections\\HspB3-mRNA_V140-K150.fasta.BUSTEDS.json [0.4153799119639649, 1]\n",
      "\n",
      "1 D:\\sHSPs\\sHSPs\\data\\\\HspB5\\sections\\HspB5_RNA_G64-R149.fasta.BUSTEDS.json [0.0840902185527859, 1]\n",
      "2 D:\\sHSPs\\sHSPs\\data\\\\HspB5\\sections\\HspB5_RNA_K150-K175.fasta.BUSTEDS.json [0.2095307245055066, 1]\n",
      "3 D:\\sHSPs\\sHSPs\\data\\\\HspB5\\sections\\HspB5_RNA_M1-E67.fasta.BUSTEDS.json [0.126219271720427, 1]\n",
      "4 D:\\sHSPs\\sHSPs\\data\\\\HspB5\\sections\\HspB5_RNA_M1-P51.fasta.BUSTEDS.json [0.1060968553477089, 1]\n",
      "5 D:\\sHSPs\\sHSPs\\data\\\\HspB5\\sections\\HspB5_RNA_M68-R107.fasta.BUSTEDS.json [0.08574201369631915, 1]\n",
      "6 D:\\sHSPs\\sHSPs\\data\\\\HspB5\\sections\\HspB5_RNA_P52-T63.fasta.BUSTEDS.json [0.2229520589044032, 1]\n",
      "7 D:\\sHSPs\\sHSPs\\data\\\\HspB5\\sections\\HspB5_RNA_Q108-K175.fasta.BUSTEDS.json [0.1342280278676064, 1]\n",
      "\n",
      "1 D:\\sHSPs\\sHSPs\\data\\\\HspB8\\sections\\HspB8_mRNA_E94-Y174.fasta.BUSTEDS.json [0.03724978800537039, 1]\n",
      "2 D:\\sHSPs\\sHSPs\\data\\\\HspB8\\sections\\HspB8_mRNA_K124-I143.fasta.BUSTEDS.json [0.03512524039070838, 1]\n",
      "3 D:\\sHSPs\\sHSPs\\data\\\\HspB8\\sections\\HspB8_mRNA_M1-G123.fasta.BUSTEDS.json [0.1056036687388581, 1]\n",
      "4 D:\\sHSPs\\sHSPs\\data\\\\HspB8\\sections\\HspB8_mRNA_M1-M68.fasta.BUSTEDS.json [0.09154785307861803, 1]\n",
      "5 D:\\sHSPs\\sHSPs\\data\\\\HspB8\\sections\\HspB8_mRNA_Q144-T196.fasta.BUSTEDS.json [0.1445697051573594, 1]\n",
      "6 D:\\sHSPs\\sHSPs\\data\\\\HspB8\\sections\\HspB8_mRNA_S175-T196.fasta.BUSTEDS.json [0.2723199669345517, 1]\n",
      "7 D:\\sHSPs\\sHSPs\\data\\\\HspB8\\sections\\HspB8_mRNA_V69-G93.fasta.BUSTEDS.json [0.1935924601640815, 1]\n",
      "\n"
     ]
    }
   ],
   "source": [
    "\n",
    "for g in genes:\n",
    "    files = []\n",
    "    path = BASEDIR + \"\\\\\" + g + \"\\\\sections\\\\\"\n",
    "    files += [path+f.name for f in os.scandir(path) if f.name.endswith(\".BUSTEDS.json\")]\n",
    "    for n, item in enumerate(files):\n",
    "        print(n+1, item, get_global_omega(item))\n",
    "    #end for\n",
    "    print()\n",
    "#end for\n",
    "        "
   ]
  },
  {
   "cell_type": "code",
   "execution_count": null,
   "id": "central-wellington",
   "metadata": {},
   "outputs": [],
   "source": []
  }
 ],
 "metadata": {
  "kernelspec": {
   "display_name": "Python 3",
   "language": "python",
   "name": "python3"
  },
  "language_info": {
   "codemirror_mode": {
    "name": "ipython",
    "version": 3
   },
   "file_extension": ".py",
   "mimetype": "text/x-python",
   "name": "python",
   "nbconvert_exporter": "python",
   "pygments_lexer": "ipython3",
   "version": "3.9.1"
  }
 },
 "nbformat": 4,
 "nbformat_minor": 5
}
